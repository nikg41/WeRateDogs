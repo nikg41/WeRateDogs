{
 "cells": [
  {
   "cell_type": "markdown",
   "metadata": {},
   "source": [
    "# Report\n",
    "In this Project we have used to Data Wrangling project for the Twitter account We Rate Dogs data to get the useful info about it.\n",
    "But At the starting we have gather all the data from different links, Fistly we have got the data in the form csv file then I have downloaded the data using requests library of python  from the provided link and then stored it in the dataframe and thirdly, I used the tweepy library to get the data from the twitter using an API and then got the required columns from data and stored in the dataframe.\n",
    "\n",
    "\n"
   ]
  },
  {
   "cell_type": "markdown",
   "metadata": {},
   "source": [
    "Then The data is assessed programatically and visualy and from both the way of processing it then I found the some Quality issues and some Tidiness issues in the the dataset and then I wrote them down so that they can be cleaned from the dataset and at finally we can get a clear and clean dataset.\n",
    "### Quality Issues\n",
    "\n",
    "- Wrong datatypes for in_reply_to_status_id, in_reply_to_user_id, timestamp, retweeted_status_id,retweeted_status_user_id, retweeted_status_timestamp\n",
    "- Some Tweet don't have images\n",
    "- Extra words in text after '&' sign\n",
    "- full content of text column is not there\n",
    "- Some ratings numerator and denominator are incorrectly extracted\n",
    "- Remove the retweets from dataframe\n",
    "- Incorrect Dog Names\n",
    "- Fix rating numerator that have decimals\n",
    "\n",
    "### TIDINESS ISSUES\n",
    "- Join all three datsets\n",
    "- Multiple colums for dog names instead of one row\n",
    "- keep only tweet_id and jpg_url in image_predictions datadrame"
   ]
  },
  {
   "cell_type": "markdown",
   "metadata": {},
   "source": [
    "At the last The whole dataset is cleaned with the help of coding skills and removing all the issues that I found in the dataset are cleaned and this made the dataset look nice and clean And finally the cleaned dataset is stored in the CSV file using pandas and the further I have done Some visualisation Which are done in the act_reprt.html"
   ]
  }
 ],
 "metadata": {
  "kernelspec": {
   "display_name": "Python 3",
   "language": "python",
   "name": "python3"
  },
  "language_info": {
   "codemirror_mode": {
    "name": "ipython",
    "version": 3
   },
   "file_extension": ".py",
   "mimetype": "text/x-python",
   "name": "python",
   "nbconvert_exporter": "python",
   "pygments_lexer": "ipython3",
   "version": "3.6.2"
  }
 },
 "nbformat": 4,
 "nbformat_minor": 2
}
